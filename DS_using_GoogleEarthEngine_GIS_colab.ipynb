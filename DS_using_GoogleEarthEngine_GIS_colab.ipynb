{
  "nbformat": 4,
  "nbformat_minor": 0,
  "metadata": {
    "colab": {
      "name": "cartoee_colab.ipynb",
      "provenance": [],
      "collapsed_sections": []
    },
    "hide_input": false,
    "kernelspec": {
      "display_name": "Python 3",
      "language": "python",
      "name": "python3"
    },
    "language_info": {
      "codemirror_mode": {
        "name": "ipython",
        "version": 3
      },
      "file_extension": ".py",
      "mimetype": "text/x-python",
      "name": "python",
      "nbconvert_exporter": "python",
      "pygments_lexer": "ipython3",
      "version": "3.8.5"
    },
    "toc": {
      "base_numbering": 1,
      "nav_menu": {},
      "number_sections": true,
      "sideBar": true,
      "skip_h1_title": false,
      "title_cell": "Table of Contents",
      "title_sidebar": "Contents",
      "toc_cell": false,
      "toc_position": {},
      "toc_section_display": true,
      "toc_window_display": false
    }
  },
  "cells": [
    {
      "cell_type": "markdown",
      "metadata": {
        "id": "evv3PLpEAXA-"
      },
      "source": [
        "<a href=\"https://colab.research.google.com/github/giswqs/geemap/blob/master/examples/notebooks/cartoee_colab.ipynb\" target=\"_parent\"><img src=\"https://colab.research.google.com/assets/colab-badge.svg\" alt=\"Open In Colab\"/></a>"
      ]
    },
    {
      "cell_type": "code",
      "metadata": {
        "id": "U8XgkNZjFaLk"
      },
      "source": [
        "# only run the install once, after install then restart session and proceed\n",
        "\n",
        "# install the Proj and GEOS libraries\n",
        "!apt-get install libproj-dev proj-bin\n",
        "!apt-get install libgeos-dev\n",
        "\n",
        "# install cartopy and geemap with all of the dependencies prebuilt\n",
        "!pip install cartopy geemap"
      ],
      "execution_count": null,
      "outputs": []
    },
    {
      "cell_type": "code",
      "metadata": {
        "id": "Y8k0PSDGHfYA"
      },
      "source": [
        "# test some basic functionality\n",
        "import ee\n",
        "import geemap.eefolium as geemap\n",
        "from geemap import cartoee\n",
        "\n",
        "%pylab inline\n",
        "Map = geemap.Map()"
      ],
      "execution_count": null,
      "outputs": []
    },
    {
      "cell_type": "code",
      "metadata": {
        "id": "KLi3XWIJZhKa"
      },
      "source": [
        "# get an earth engine image\n",
        "srtm = ee.Image(\"CGIAR/SRTM90_V4\")\n",
        "\n",
        "region = [-180,-60,180,85] # define bounding box to request data\n",
        "vis = {'min':0,'max':3000} # define visualization parameters for image\n",
        "\n",
        "# plot the result using cartoee\n",
        "ax = cartoee.get_map(srtm,region=[-180,-60,180,60],vis_params={'min':0,'max':3000})\n",
        "cartoee.add_gridlines(ax,interval=(60,30),linestyle=\":\")\n",
        "cartoee.add_colorbar(ax,vis_params={'min':0,'max':3000},loc=\"bottom\", label=\"Elevation\",orientation=\"horizontal\")\n",
        "\n",
        "# ax.coastlines() # adding coastlines are causing the errors!!!\n",
        "plt.show()"
      ],
      "execution_count": null,
      "outputs": []
    }
  ]
}